{
  "cells": [
    {
      "cell_type": "code",
      "source": [
        "# Install required packages if not already installed\n",
        "# !pip install dash dash-bootstrap-components pandas plotly sqlalchemy\n",
        "\n",
        "import pandas as pd\n",
        "import sqlite3\n",
        "from dash import Dash, dcc, html, Input, Output, State, dash_table\n",
        "import dash_bootstrap_components as dbc\n",
        "import plotly.express as px\n",
        "from io import BytesIO\n",
        "import base64"
      ],
      "metadata": {
        "id": "DLb5ES6G8ir3"
      },
      "execution_count": null,
      "outputs": []
    },
    {
      "cell_type": "code",
      "source": [
        "app = Dash(__name__, external_stylesheets=[dbc.themes.BOOTSTRAP])\n",
        "server = app.server"
      ],
      "metadata": {
        "id": "Lw7R7Boi8jG_"
      },
      "execution_count": null,
      "outputs": []
    },
    {
      "cell_type": "code",
      "source": [
        "conn = sqlite3.connect('customer360.db', check_same_thread=False)\n"
      ],
      "metadata": {
        "id": "BhCs2T0J8k-e"
      },
      "execution_count": null,
      "outputs": []
    },
    {
      "cell_type": "code",
      "source": [
        "app.layout = dbc.Container([\n",
        "    html.H1(\"Customer 360° Analytics Dashboard\", style={'textAlign': 'center', 'marginTop': 20}),\n",
        "\n",
        "    dbc.Row([\n",
        "        dbc.Col([\n",
        "            dcc.Upload(\n",
        "                id='upload-data',\n",
        "                children=html.Div(['Drag and Drop or ', html.A('Select CSV File')]),\n",
        "                style={'width': '100%', 'height': '60px', 'lineHeight': '60px',\n",
        "                       'borderWidth': '1px', 'borderStyle': 'dashed', 'borderRadius': '5px',\n",
        "                       'textAlign': 'center', 'marginBottom': 20},\n",
        "                multiple=True\n",
        "            ),\n",
        "            dbc.Button(\"Refresh KPIs & Graphs\", id=\"refresh-kpi\", color=\"primary\", className=\"mb-2\"),\n",
        "            dbc.Button(\"Add New Row\", id=\"add-row\", color=\"success\", className=\"mb-2\", style={'marginLeft':'10px'}),\n",
        "            dbc.Button(\"Download Master Table\", id=\"download-btn\", color=\"info\", className=\"mb-2\", style={'marginLeft':'10px'}),\n",
        "            dcc.Download(id=\"download-dataframe-csv\")\n",
        "        ], width=4),\n",
        "\n",
        "        dbc.Col([\n",
        "            html.H4(\"KPIs\"),\n",
        "            html.Div(id='kpi-output')\n",
        "        ], width=8)\n",
        "    ]),\n",
        "\n",
        "    dbc.Row([\n",
        "        dbc.Col([\n",
        "            html.H4(\"Master Table (Editable)\"),\n",
        "            dash_table.DataTable(\n",
        "                id='editable-table',\n",
        "                columns=[],\n",
        "                data=[],\n",
        "                editable=True,\n",
        "                row_deletable=True,\n",
        "                filter_action=\"native\",\n",
        "                sort_action=\"native\",\n",
        "                page_size=10\n",
        "            )\n",
        "        ], width=12)\n",
        "    ], style={'marginTop': 20, 'marginBottom': 20}),\n",
        "\n",
        "    dbc.Row([\n",
        "        dbc.Col([\n",
        "            html.Label(\"Filter by Age Group:\"),\n",
        "            dcc.Dropdown(id='filter-age', multi=True)\n",
        "        ], width=4),\n",
        "        dbc.Col([\n",
        "            html.Label(\"Filter by Churned Status:\"),\n",
        "            dcc.Dropdown(id='filter-churn', multi=True)\n",
        "        ], width=4)\n",
        "    ], style={'marginBottom': 20}),\n",
        "\n",
        "    dbc.Row([\n",
        "        dbc.Col([dcc.Graph(id='churn-graph')], width=6),\n",
        "        dbc.Col([dcc.Graph(id='retention-graph')], width=6),\n",
        "    ]),\n",
        "\n",
        "    dbc.Row([\n",
        "        dbc.Col([dcc.Graph(id='segmentation-graph')], width=12)\n",
        "    ]),\n",
        "\n",
        "    html.Div(id='master-data', style={'display': 'none'})\n",
        "], fluid=True)\n"
      ],
      "metadata": {
        "id": "tw5Qk3VG9d-Z"
      },
      "execution_count": null,
      "outputs": []
    },
    {
      "cell_type": "code",
      "source": [
        "def parse_csv(contents, filename):\n",
        "    import base64, io\n",
        "    content_type, content_string = contents.split(',')\n",
        "    decoded = base64.b64decode(content_string)\n",
        "    try:\n",
        "        if filename.endswith('.csv'):\n",
        "            df = pd.read_csv(io.StringIO(decoded.decode('utf-8')))\n",
        "            return df\n",
        "    except Exception as e:\n",
        "        print(e)\n",
        "        return pd.DataFrame()\n",
        "\n",
        "def create_master_table(df_list):\n",
        "    if len(df_list) == 0:\n",
        "        return pd.DataFrame()\n",
        "    master_df = df_list[0]\n",
        "    for df in df_list[1:]:\n",
        "        if 'customer_id' in df.columns and 'customer_id' in master_df.columns:\n",
        "            master_df = master_df.merge(df, on='customer_id', how='outer')\n",
        "        else:\n",
        "            master_df = pd.concat([master_df, df], axis=0, ignore_index=True)\n",
        "    if 'churned' in master_df.columns:\n",
        "        master_df['churned'] = master_df['churned'].fillna(0).astype(int)\n",
        "    if 'age' in master_df.columns:\n",
        "        master_df['age'] = master_df['age'].fillna(master_df['age'].median())\n",
        "    return master_df"
      ],
      "metadata": {
        "id": "L_DY9ZTc9jbX"
      },
      "execution_count": null,
      "outputs": []
    },
    {
      "cell_type": "code",
      "source": [
        "@app.callback(\n",
        "    Output('master-data', 'children'),\n",
        "    Output('editable-table', 'columns'),\n",
        "    Output('editable-table', 'data'),\n",
        "    Output('filter-age', 'options'),\n",
        "    Output('filter-churn', 'options'),\n",
        "    Input('upload-data', 'contents'),\n",
        "    State('upload-data', 'filename')\n",
        ")\n",
        "def update_master(contents, filenames):\n",
        "    if contents is not None:\n",
        "        dfs = [parse_csv(c, f) for c, f in zip(contents, filenames)]\n",
        "        master_df = create_master_table(dfs)\n",
        "        master_df.to_sql('master_table', conn, if_exists='replace', index=False)\n",
        "        columns = [{\"name\": i, \"id\": i, \"editable\": True} for i in master_df.columns]\n",
        "        data = master_df.to_dict('records')\n",
        "        age_options = [{\"label\": str(a), \"value\": str(a)} for a in sorted(master_df['age'].astype(int).unique())] if 'age' in master_df.columns else []\n",
        "        churn_options = [{\"label\": str(c), \"value\": str(c)} for c in sorted(master_df['churned'].unique())] if 'churned' in master_df.columns else []\n",
        "        return master_df.to_json(date_format='iso', orient='split'), columns, data, age_options, churn_options\n",
        "    return pd.DataFrame().to_json(date_format='iso', orient='split'), [], [], [], []\n",
        "\n",
        "@app.callback(\n",
        "    Output('master-data', 'children', allow_duplicate=True),\n",
        "    Input('editable-table', 'data'),\n",
        "    prevent_initial_call=True\n",
        ")\n",
        "def update_from_table(table_data):\n",
        "    df = pd.DataFrame(table_data)\n",
        "    df.to_sql('master_table', conn, if_exists='replace', index=False)\n",
        "    return df.to_json(date_format='iso', orient='split')\n",
        "\n",
        "@app.callback(\n",
        "    Output('editable-table', 'data', allow_duplicate=True),\n",
        "    Input('add-row', 'n_clicks'),\n",
        "    State('editable-table', 'columns'),\n",
        "    State('editable-table', 'data'),\n",
        "    prevent_initial_call=True\n",
        ")\n",
        "def add_new_row(n_clicks, columns, data):\n",
        "    new_row = {c['id']: \"\" for c in columns}\n",
        "    data.append(new_row)\n",
        "    return data\n",
        "\n",
        "@app.callback(\n",
        "    Output(\"download-dataframe-csv\", \"data\"),\n",
        "    Input(\"download-btn\", \"n_clicks\"),\n",
        "    State('master-data', 'children'),\n",
        "    prevent_initial_call=True\n",
        ")\n",
        "def download_csv(n_clicks, master_json):\n",
        "    df = pd.read_json(master_json, orient='split')\n",
        "    return dcc.send_data_frame(df.to_csv, \"master_table.csv\", index=False)\n",
        "\n",
        "@app.callback(\n",
        "    Output('kpi-output', 'children'),\n",
        "    Input('refresh-kpi', 'n_clicks'),\n",
        "    State('master-data', 'children')\n",
        ")\n",
        "def update_kpis(n, master_json):\n",
        "    df = pd.read_json(master_json, orient='split')\n",
        "    if df.empty:\n",
        "        return \"No data available.\"\n",
        "    total_customers = df['customer_id'].nunique() if 'customer_id' in df.columns else len(df)\n",
        "    churn_rate = round(df['churned'].mean() * 100, 2) if 'churned' in df.columns else 0\n",
        "    avg_age = round(df['age'].mean(), 2) if 'age' in df.columns else 0\n",
        "    color_churn = \"red\" if churn_rate > 50 else \"green\"\n",
        "    return dbc.Row([\n",
        "        dbc.Col(dbc.Card([dbc.CardHeader(\"Total Customers\"), dbc.CardBody(html.H4(total_customers))], color=\"primary\", inverse=True)),\n",
        "        dbc.Col(dbc.Card([dbc.CardHeader(\"Churn Rate\"), dbc.CardBody(html.H4(f\"{churn_rate}%\"))], color=color_churn, inverse=True)),\n",
        "        dbc.Col(dbc.Card([dbc.CardHeader(\"Average Age\"), dbc.CardBody(html.H4(avg_age))], color=\"info\", inverse=True))\n",
        "    ])"
      ],
      "metadata": {
        "id": "yX6RkAY_9nYY"
      },
      "execution_count": null,
      "outputs": []
    },
    {
      "cell_type": "code",
      "source": [
        "@app.callback(\n",
        "    Output('churn-graph', 'figure'),\n",
        "    Output('retention-graph', 'figure'),\n",
        "    Output('segmentation-graph', 'figure'),\n",
        "    Input('master-data', 'children'),\n",
        "    Input('filter-age', 'value'),\n",
        "    Input('filter-churn', 'value')\n",
        ")\n",
        "def update_graphs(master_json, age_filter, churn_filter):\n",
        "    df = pd.read_json(master_json, orient='split')\n",
        "    if df.empty:\n",
        "        return {}, {}, {}\n",
        "    # Apply filters\n",
        "    if age_filter and 'age' in df.columns:\n",
        "        df = df[df['age'].astype(str).isin(age_filter)]\n",
        "    if churn_filter and 'churned' in df.columns:\n",
        "        df = df[df['churned'].astype(str).isin(churn_filter)]\n",
        "\n",
        "    churn_fig = px.pie(df, names='churned', title=\"Churn Distribution\") if 'churned' in df.columns else {}\n",
        "    if 'age' in df.columns:\n",
        "        df['age_group'] = pd.cut(df['age'], bins=[0,18,25,35,50,100], labels=['0-18','19-25','26-35','36-50','50+'])\n",
        "        retention_fig = px.bar(df.groupby('age_group')['customer_id'].count().reset_index(), x='age_group', y='customer_id', title=\"Customer Retention by Age Group\")\n",
        "    else:\n",
        "        retention_fig = {}\n",
        "    if 'age_group' in df.columns and 'churned' in df.columns:\n",
        "        segmentation_fig = px.histogram(df, x='age_group', color='churned', barmode='group', title=\"Customer Segmentation by Age Group & Churn\")\n",
        "    else:\n",
        "        segmentation_fig = {}\n",
        "    return churn_fig, retention_fig, segmentation_fig"
      ],
      "metadata": {
        "id": "K8EDjEEa9tUy"
      },
      "execution_count": null,
      "outputs": []
    },
    {
      "cell_type": "code",
      "source": [
        "if __name__ == '__main__':\n",
        "    app.run(debug=True)"
      ],
      "metadata": {
        "id": "D0apzunP9zbH",
        "outputId": "8a3ca49f-061b-4c2d-87a7-793a12bbdd5d",
        "colab": {
          "base_uri": "https://localhost:8080/",
          "height": 671
        }
      },
      "execution_count": null,
      "outputs": [
        {
          "output_type": "display_data",
          "data": {
            "text/plain": [
              "<IPython.core.display.Javascript object>"
            ],
            "application/javascript": [
              "(async (port, path, width, height, cache, element) => {\n",
              "    if (!google.colab.kernel.accessAllowed && !cache) {\n",
              "      return;\n",
              "    }\n",
              "    element.appendChild(document.createTextNode(''));\n",
              "    const url = await google.colab.kernel.proxyPort(port, {cache});\n",
              "    const iframe = document.createElement('iframe');\n",
              "    iframe.src = new URL(path, url).toString();\n",
              "    iframe.height = height;\n",
              "    iframe.width = width;\n",
              "    iframe.style.border = 0;\n",
              "    iframe.allow = [\n",
              "        'accelerometer',\n",
              "        'autoplay',\n",
              "        'camera',\n",
              "        'clipboard-read',\n",
              "        'clipboard-write',\n",
              "        'gyroscope',\n",
              "        'magnetometer',\n",
              "        'microphone',\n",
              "        'serial',\n",
              "        'usb',\n",
              "        'xr-spatial-tracking',\n",
              "    ].join('; ');\n",
              "    element.appendChild(iframe);\n",
              "  })(8050, \"/\", \"100%\", 650, false, window.element)"
            ]
          },
          "metadata": {}
        }
      ]
    }
  ],
  "metadata": {
    "colab": {
      "toc_visible": true,
      "provenance": []
    },
    "kernelspec": {
      "display_name": "Python 3",
      "name": "python3"
    }
  },
  "nbformat": 4,
  "nbformat_minor": 0
}